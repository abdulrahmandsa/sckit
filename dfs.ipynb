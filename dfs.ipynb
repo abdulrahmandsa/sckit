{
 "cells": [
  {
   "cell_type": "code",
   "execution_count": 2,
   "id": "696b52f3-8897-4180-babe-5530a954c56a",
   "metadata": {},
   "outputs": [
    {
     "name": "stdout",
     "output_type": "stream",
     "text": [
      "Visiting A, Total Weight: 0\n",
      "Visiting B, Total Weight: 1\n",
      "Visiting D, Total Weight: 4\n",
      "Visiting E, Total Weight: 5\n",
      "Visiting F, Total Weight: 11\n",
      "Visiting C, Total Weight: 16\n"
     ]
    }
   ],
   "source": [
    "graph = {\n",
    "    'A': [('B', 1), ('C', 2)],\n",
    "    'B': [('A', 1), ('D', 3), ('E', 4)],\n",
    "    'C': [('A', 2), ('F', 5)],\n",
    "    'D': [('B', 3)],\n",
    "    'E': [('B', 4), ('F', 6)],\n",
    "    'F': [('C', 5), ('E', 6)]\n",
    "}\n",
    "\n",
    "def dfs_weighted(graph, start, visited=None, total_weight=0):\n",
    "    if visited is None:\n",
    "        visited = set()\n",
    "    visited.add(start)\n",
    "    print(f\"Visiting {start}, Total Weight: {total_weight}\")\n",
    "\n",
    "    for neighbor, weight in graph[start]:\n",
    "        if neighbor not in visited:\n",
    "            dfs_weighted(graph, neighbor, visited, total_weight + weight)\n",
    "\n",
    "# Start DFS from vertex 'A' with a total weight of 0\n",
    "dfs_weighted(graph, 'A', total_weight=0)\n"
   ]
  },
  {
   "cell_type": "code",
   "execution_count": null,
   "id": "ff5c484c-9af1-430d-bf5b-972f1ec779cc",
   "metadata": {},
   "outputs": [],
   "source": []
  }
 ],
 "metadata": {
  "kernelspec": {
   "display_name": "Python 3 (ipykernel)",
   "language": "python",
   "name": "python3"
  },
  "language_info": {
   "codemirror_mode": {
    "name": "ipython",
    "version": 3
   },
   "file_extension": ".py",
   "mimetype": "text/x-python",
   "name": "python",
   "nbconvert_exporter": "python",
   "pygments_lexer": "ipython3",
   "version": "3.12.2"
  }
 },
 "nbformat": 4,
 "nbformat_minor": 5
}
